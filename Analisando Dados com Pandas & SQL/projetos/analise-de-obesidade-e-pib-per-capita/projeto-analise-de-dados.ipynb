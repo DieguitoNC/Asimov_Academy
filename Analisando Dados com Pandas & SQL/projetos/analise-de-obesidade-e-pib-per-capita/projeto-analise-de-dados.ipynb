{
 "cells": [
  {
   "cell_type": "markdown",
   "id": "motivated-olympus",
   "metadata": {},
   "source": [
    "# Projeto final\n",
    "\n",
    "Bem vindo ao projeto final do curso/módulo de Pandas.\n",
    "Neste projeto, você deve responder a um conjunto de perguntas feitas a dois conjuntos de dados:\n",
    "\n",
    "1. [Obesity among adults by country, 1975-2016](https://www.kaggle.com/amanarora/obesity-among-adults-by-country-19752016/)\n",
    "2. [GDP Per Person (1901-2011)](https://www.kaggle.com/divyansh22/gdp-per-person-19012011?select=GDP.csv)\n",
    "\n",
    "Tais conjuntos de dados são públicos foram publicados no Kaggle. Mais instruções sobre cada um deles podem ser encontrados nos links acima. Você também os encontrará na pasta `Datasets`, dentro de nossas apostilas."
   ]
  },
  {
   "cell_type": "code",
   "execution_count": 1,
   "id": "million-survival",
   "metadata": {},
   "outputs": [],
   "source": [
    "import pandas as pd\n",
    "import numpy as np"
   ]
  },
  {
   "cell_type": "markdown",
   "id": "becoming-princeton",
   "metadata": {},
   "source": [
    "## Perguntas - Obesity among adults by country, 1975-2016"
   ]
  },
  {
   "cell_type": "code",
   "execution_count": 2,
   "id": "formal-heater",
   "metadata": {},
   "outputs": [],
   "source": [
    "df_obesity = pd.read_csv(\"Datasets/obesity_cleaned.csv\", index_col=0)"
   ]
  },
  {
   "cell_type": "code",
   "execution_count": 3,
   "id": "0d7e27a4",
   "metadata": {},
   "outputs": [
    {
     "data": {
      "text/html": [
       "<div>\n",
       "<style scoped>\n",
       "    .dataframe tbody tr th:only-of-type {\n",
       "        vertical-align: middle;\n",
       "    }\n",
       "\n",
       "    .dataframe tbody tr th {\n",
       "        vertical-align: top;\n",
       "    }\n",
       "\n",
       "    .dataframe thead th {\n",
       "        text-align: right;\n",
       "    }\n",
       "</style>\n",
       "<table border=\"1\" class=\"dataframe\">\n",
       "  <thead>\n",
       "    <tr style=\"text-align: right;\">\n",
       "      <th></th>\n",
       "      <th>Country</th>\n",
       "      <th>Year</th>\n",
       "      <th>Obesity (%)</th>\n",
       "      <th>Sex</th>\n",
       "    </tr>\n",
       "  </thead>\n",
       "  <tbody>\n",
       "    <tr>\n",
       "      <th>0</th>\n",
       "      <td>Afghanistan</td>\n",
       "      <td>1975</td>\n",
       "      <td>0.5 [0.2-1.1]</td>\n",
       "      <td>Both sexes</td>\n",
       "    </tr>\n",
       "    <tr>\n",
       "      <th>1</th>\n",
       "      <td>Afghanistan</td>\n",
       "      <td>1975</td>\n",
       "      <td>0.2 [0.0-0.6]</td>\n",
       "      <td>Male</td>\n",
       "    </tr>\n",
       "    <tr>\n",
       "      <th>2</th>\n",
       "      <td>Afghanistan</td>\n",
       "      <td>1975</td>\n",
       "      <td>0.8 [0.2-2.0]</td>\n",
       "      <td>Female</td>\n",
       "    </tr>\n",
       "    <tr>\n",
       "      <th>3</th>\n",
       "      <td>Afghanistan</td>\n",
       "      <td>1976</td>\n",
       "      <td>0.5 [0.2-1.1]</td>\n",
       "      <td>Both sexes</td>\n",
       "    </tr>\n",
       "    <tr>\n",
       "      <th>4</th>\n",
       "      <td>Afghanistan</td>\n",
       "      <td>1976</td>\n",
       "      <td>0.2 [0.0-0.7]</td>\n",
       "      <td>Male</td>\n",
       "    </tr>\n",
       "    <tr>\n",
       "      <th>...</th>\n",
       "      <td>...</td>\n",
       "      <td>...</td>\n",
       "      <td>...</td>\n",
       "      <td>...</td>\n",
       "    </tr>\n",
       "    <tr>\n",
       "      <th>24565</th>\n",
       "      <td>Zimbabwe</td>\n",
       "      <td>2015</td>\n",
       "      <td>4.5 [2.4-7.6]</td>\n",
       "      <td>Male</td>\n",
       "    </tr>\n",
       "    <tr>\n",
       "      <th>24566</th>\n",
       "      <td>Zimbabwe</td>\n",
       "      <td>2015</td>\n",
       "      <td>24.8 [18.9-31.3]</td>\n",
       "      <td>Female</td>\n",
       "    </tr>\n",
       "    <tr>\n",
       "      <th>24567</th>\n",
       "      <td>Zimbabwe</td>\n",
       "      <td>2016</td>\n",
       "      <td>15.5 [12.0-19.2]</td>\n",
       "      <td>Both sexes</td>\n",
       "    </tr>\n",
       "    <tr>\n",
       "      <th>24568</th>\n",
       "      <td>Zimbabwe</td>\n",
       "      <td>2016</td>\n",
       "      <td>4.7 [2.5-8.0]</td>\n",
       "      <td>Male</td>\n",
       "    </tr>\n",
       "    <tr>\n",
       "      <th>24569</th>\n",
       "      <td>Zimbabwe</td>\n",
       "      <td>2016</td>\n",
       "      <td>25.3 [19.1-32.0]</td>\n",
       "      <td>Female</td>\n",
       "    </tr>\n",
       "  </tbody>\n",
       "</table>\n",
       "<p>24570 rows × 4 columns</p>\n",
       "</div>"
      ],
      "text/plain": [
       "           Country  Year       Obesity (%)         Sex\n",
       "0      Afghanistan  1975     0.5 [0.2-1.1]  Both sexes\n",
       "1      Afghanistan  1975     0.2 [0.0-0.6]        Male\n",
       "2      Afghanistan  1975     0.8 [0.2-2.0]      Female\n",
       "3      Afghanistan  1976     0.5 [0.2-1.1]  Both sexes\n",
       "4      Afghanistan  1976     0.2 [0.0-0.7]        Male\n",
       "...            ...   ...               ...         ...\n",
       "24565     Zimbabwe  2015     4.5 [2.4-7.6]        Male\n",
       "24566     Zimbabwe  2015  24.8 [18.9-31.3]      Female\n",
       "24567     Zimbabwe  2016  15.5 [12.0-19.2]  Both sexes\n",
       "24568     Zimbabwe  2016     4.7 [2.5-8.0]        Male\n",
       "24569     Zimbabwe  2016  25.3 [19.1-32.0]      Female\n",
       "\n",
       "[24570 rows x 4 columns]"
      ]
     },
     "execution_count": 3,
     "metadata": {},
     "output_type": "execute_result"
    }
   ],
   "source": [
    "df_obesity"
   ]
  },
  {
   "cell_type": "code",
   "execution_count": 4,
   "id": "fc52608b",
   "metadata": {},
   "outputs": [
    {
     "name": "stdout",
     "output_type": "stream",
     "text": [
      "<class 'pandas.core.frame.DataFrame'>\n",
      "Int64Index: 24570 entries, 0 to 24569\n",
      "Data columns (total 4 columns):\n",
      " #   Column       Non-Null Count  Dtype \n",
      "---  ------       --------------  ----- \n",
      " 0   Country      24570 non-null  object\n",
      " 1   Year         24570 non-null  int64 \n",
      " 2   Obesity (%)  24570 non-null  object\n",
      " 3   Sex          24570 non-null  object\n",
      "dtypes: int64(1), object(3)\n",
      "memory usage: 959.8+ KB\n"
     ]
    }
   ],
   "source": [
    "df_obesity.info()"
   ]
  },
  {
   "cell_type": "markdown",
   "id": "divine-rebel",
   "metadata": {},
   "source": [
    "- Limpe os dados do DataFrame, criando uma coluna de nome 'Obesity' que conterá os valores de obesidade. Transforme em float as colunas que porventura foram importadas como string."
   ]
  },
  {
   "cell_type": "code",
   "execution_count": 5,
   "id": "cubic-minneapolis",
   "metadata": {},
   "outputs": [],
   "source": [
    "df_obesity[\"Obesity\"] = df_obesity[\"Obesity (%)\"].str[:4]"
   ]
  },
  {
   "cell_type": "code",
   "execution_count": 6,
   "id": "1ea45251",
   "metadata": {},
   "outputs": [],
   "source": [
    "df_obesity[\"Obesity\"] = pd.to_numeric(df_obesity[\"Obesity\"],downcast='float', errors='coerce')"
   ]
  },
  {
   "cell_type": "code",
   "execution_count": 7,
   "id": "59219452",
   "metadata": {},
   "outputs": [
    {
     "name": "stdout",
     "output_type": "stream",
     "text": [
      "<class 'pandas.core.frame.DataFrame'>\n",
      "Int64Index: 24570 entries, 0 to 24569\n",
      "Data columns (total 5 columns):\n",
      " #   Column       Non-Null Count  Dtype  \n",
      "---  ------       --------------  -----  \n",
      " 0   Country      24570 non-null  object \n",
      " 1   Year         24570 non-null  int64  \n",
      " 2   Obesity (%)  24570 non-null  object \n",
      " 3   Sex          24570 non-null  object \n",
      " 4   Obesity      24066 non-null  float32\n",
      "dtypes: float32(1), int64(1), object(3)\n",
      "memory usage: 1.0+ MB\n"
     ]
    }
   ],
   "source": [
    "df_obesity.info()"
   ]
  },
  {
   "cell_type": "markdown",
   "id": "voluntary-temperature",
   "metadata": {},
   "source": [
    "- Qual o percentual médio de obesidade por sexo no mundo no ano de 2015?"
   ]
  },
  {
   "cell_type": "code",
   "execution_count": 8,
   "id": "afraid-reminder",
   "metadata": {},
   "outputs": [],
   "source": [
    "df_obesity_mean_sex = df_obesity[\n",
    "    (df_obesity['Year'] == 2015) &\n",
    "    (df_obesity['Sex'].isin(['Male', 'Female']))\n",
    "    ]\n",
    "\n"
   ]
  },
  {
   "cell_type": "code",
   "execution_count": 9,
   "id": "ead349c9",
   "metadata": {},
   "outputs": [],
   "source": [
    "df_obesity_mean_sex = df_obesity_mean_sex.groupby('Sex')['Obesity'].mean()\n"
   ]
  },
  {
   "cell_type": "code",
   "execution_count": 10,
   "id": "a0b56646",
   "metadata": {},
   "outputs": [
    {
     "data": {
      "text/plain": [
       "Sex\n",
       "Female    22.899475\n",
       "Male      15.980629\n",
       "Name: Obesity, dtype: float32"
      ]
     },
     "execution_count": 10,
     "metadata": {},
     "output_type": "execute_result"
    }
   ],
   "source": [
    "df_obesity_mean_sex"
   ]
  },
  {
   "cell_type": "markdown",
   "id": "expected-kruger",
   "metadata": {},
   "source": [
    "- Quais são os 5 países com a maior e a menor taxa de aumento nos índices de obesidade no período observado?"
   ]
  },
  {
   "cell_type": "code",
   "execution_count": 11,
   "id": "phantom-going",
   "metadata": {},
   "outputs": [],
   "source": [
    "\n",
    "df_obesity_country = df_obesity[df_obesity[\"Sex\"].isin(['Both sexes'])]\n",
    "\n",
    "df_obesity_country = df_obesity_country.sort_values(by=[\"Country\",\"Sex\", \"Year\"])\n",
    "\n",
    "\n"
   ]
  },
  {
   "cell_type": "code",
   "execution_count": 12,
   "id": "2cc50912",
   "metadata": {},
   "outputs": [],
   "source": [
    "df_obesity_country[\"Obesity Change\"] = df_obesity_country.groupby([\"Country\",\"Sex\"])[\"Obesity\"].pct_change()*100"
   ]
  },
  {
   "cell_type": "code",
   "execution_count": 13,
   "id": "f8129d22",
   "metadata": {},
   "outputs": [],
   "source": [
    "df_obesity_country[\"Obesity Change\"] = df_obesity_country[\"Obesity Change\"].round(2)"
   ]
  },
  {
   "cell_type": "code",
   "execution_count": 14,
   "id": "0bbfe90e",
   "metadata": {},
   "outputs": [],
   "source": [
    "df_obesity_country_max = df_obesity_country.sort_values(by=\"Obesity Change\",ascending=False)"
   ]
  },
  {
   "cell_type": "code",
   "execution_count": 15,
   "id": "e903a203",
   "metadata": {},
   "outputs": [
    {
     "data": {
      "text/html": [
       "<div>\n",
       "<style scoped>\n",
       "    .dataframe tbody tr th:only-of-type {\n",
       "        vertical-align: middle;\n",
       "    }\n",
       "\n",
       "    .dataframe tbody tr th {\n",
       "        vertical-align: top;\n",
       "    }\n",
       "\n",
       "    .dataframe thead th {\n",
       "        text-align: right;\n",
       "    }\n",
       "</style>\n",
       "<table border=\"1\" class=\"dataframe\">\n",
       "  <thead>\n",
       "    <tr style=\"text-align: right;\">\n",
       "      <th></th>\n",
       "      <th>Country</th>\n",
       "      <th>Year</th>\n",
       "      <th>Obesity (%)</th>\n",
       "      <th>Sex</th>\n",
       "      <th>Obesity</th>\n",
       "      <th>Obesity Change</th>\n",
       "    </tr>\n",
       "  </thead>\n",
       "  <tbody>\n",
       "    <tr>\n",
       "      <th>24072</th>\n",
       "      <td>Viet Nam</td>\n",
       "      <td>1977</td>\n",
       "      <td>0.2 [0.1-0.3]</td>\n",
       "      <td>Both sexes</td>\n",
       "      <td>0.2</td>\n",
       "      <td>100.000000</td>\n",
       "    </tr>\n",
       "    <tr>\n",
       "      <th>20943</th>\n",
       "      <td>Sudan (former)</td>\n",
       "      <td>1984</td>\n",
       "      <td>1.9 [1.0-3.4]</td>\n",
       "      <td>Both sexes</td>\n",
       "      <td>1.9</td>\n",
       "      <td>72.730003</td>\n",
       "    </tr>\n",
       "    <tr>\n",
       "      <th>20961</th>\n",
       "      <td>Sudan (former)</td>\n",
       "      <td>1990</td>\n",
       "      <td>2.7 [1.5-4.4]</td>\n",
       "      <td>Both sexes</td>\n",
       "      <td>2.7</td>\n",
       "      <td>68.750000</td>\n",
       "    </tr>\n",
       "    <tr>\n",
       "      <th>1644</th>\n",
       "      <td>Bangladesh</td>\n",
       "      <td>1977</td>\n",
       "      <td>0.3 [0.1-0.5]</td>\n",
       "      <td>Both sexes</td>\n",
       "      <td>0.3</td>\n",
       "      <td>50.000000</td>\n",
       "    </tr>\n",
       "    <tr>\n",
       "      <th>20919</th>\n",
       "      <td>Sudan (former)</td>\n",
       "      <td>1976</td>\n",
       "      <td>1.5 [0.5-3.2]</td>\n",
       "      <td>Both sexes</td>\n",
       "      <td>1.5</td>\n",
       "      <td>50.000000</td>\n",
       "    </tr>\n",
       "    <tr>\n",
       "      <th>24099</th>\n",
       "      <td>Viet Nam</td>\n",
       "      <td>1986</td>\n",
       "      <td>0.3 [0.1-0.4]</td>\n",
       "      <td>Both sexes</td>\n",
       "      <td>0.3</td>\n",
       "      <td>50.000000</td>\n",
       "    </tr>\n",
       "    <tr>\n",
       "      <th>21801</th>\n",
       "      <td>Timor-Leste</td>\n",
       "      <td>1976</td>\n",
       "      <td>0.3 [0.1-0.6]</td>\n",
       "      <td>Both sexes</td>\n",
       "      <td>0.3</td>\n",
       "      <td>50.000000</td>\n",
       "    </tr>\n",
       "    <tr>\n",
       "      <th>20988</th>\n",
       "      <td>Sudan (former)</td>\n",
       "      <td>1999</td>\n",
       "      <td>5.5 [3.4-8.3]</td>\n",
       "      <td>Both sexes</td>\n",
       "      <td>5.5</td>\n",
       "      <td>48.650002</td>\n",
       "    </tr>\n",
       "    <tr>\n",
       "      <th>21036</th>\n",
       "      <td>Sudan (former)</td>\n",
       "      <td>2015</td>\n",
       "      <td>8.6 [5.8-12.1]</td>\n",
       "      <td>Both sexes</td>\n",
       "      <td>8.6</td>\n",
       "      <td>48.279999</td>\n",
       "    </tr>\n",
       "    <tr>\n",
       "      <th>20985</th>\n",
       "      <td>Sudan (former)</td>\n",
       "      <td>1998</td>\n",
       "      <td>3.7 [2.3-5.4]</td>\n",
       "      <td>Both sexes</td>\n",
       "      <td>3.7</td>\n",
       "      <td>37.040001</td>\n",
       "    </tr>\n",
       "  </tbody>\n",
       "</table>\n",
       "</div>"
      ],
      "text/plain": [
       "              Country  Year     Obesity (%)         Sex  Obesity  \\\n",
       "24072        Viet Nam  1977   0.2 [0.1-0.3]  Both sexes      0.2   \n",
       "20943  Sudan (former)  1984   1.9 [1.0-3.4]  Both sexes      1.9   \n",
       "20961  Sudan (former)  1990   2.7 [1.5-4.4]  Both sexes      2.7   \n",
       "1644       Bangladesh  1977   0.3 [0.1-0.5]  Both sexes      0.3   \n",
       "20919  Sudan (former)  1976   1.5 [0.5-3.2]  Both sexes      1.5   \n",
       "24099        Viet Nam  1986   0.3 [0.1-0.4]  Both sexes      0.3   \n",
       "21801     Timor-Leste  1976   0.3 [0.1-0.6]  Both sexes      0.3   \n",
       "20988  Sudan (former)  1999   5.5 [3.4-8.3]  Both sexes      5.5   \n",
       "21036  Sudan (former)  2015  8.6 [5.8-12.1]  Both sexes      8.6   \n",
       "20985  Sudan (former)  1998   3.7 [2.3-5.4]  Both sexes      3.7   \n",
       "\n",
       "       Obesity Change  \n",
       "24072      100.000000  \n",
       "20943       72.730003  \n",
       "20961       68.750000  \n",
       "1644        50.000000  \n",
       "20919       50.000000  \n",
       "24099       50.000000  \n",
       "21801       50.000000  \n",
       "20988       48.650002  \n",
       "21036       48.279999  \n",
       "20985       37.040001  "
      ]
     },
     "execution_count": 15,
     "metadata": {},
     "output_type": "execute_result"
    }
   ],
   "source": [
    "df_obesity_country_max.head(10)"
   ]
  },
  {
   "cell_type": "code",
   "execution_count": 16,
   "id": "08cd5b73",
   "metadata": {},
   "outputs": [],
   "source": [
    "df_obesity_country_min = df_obesity_country_max.dropna()"
   ]
  },
  {
   "cell_type": "code",
   "execution_count": 26,
   "id": "89e6b2d1",
   "metadata": {},
   "outputs": [],
   "source": [
    "df_obesity_country_min = df_obesity_country_max.tail(10)"
   ]
  },
  {
   "cell_type": "code",
   "execution_count": 25,
   "id": "ccdbb2b2",
   "metadata": {},
   "outputs": [
    {
     "data": {
      "text/html": [
       "<div>\n",
       "<style scoped>\n",
       "    .dataframe tbody tr th:only-of-type {\n",
       "        vertical-align: middle;\n",
       "    }\n",
       "\n",
       "    .dataframe tbody tr th {\n",
       "        vertical-align: top;\n",
       "    }\n",
       "\n",
       "    .dataframe thead th {\n",
       "        text-align: right;\n",
       "    }\n",
       "</style>\n",
       "<table border=\"1\" class=\"dataframe\">\n",
       "  <thead>\n",
       "    <tr style=\"text-align: right;\">\n",
       "      <th></th>\n",
       "      <th>Country</th>\n",
       "      <th>Year</th>\n",
       "      <th>Obesity (%)</th>\n",
       "      <th>Sex</th>\n",
       "      <th>Obesity</th>\n",
       "      <th>Obesity Change</th>\n",
       "    </tr>\n",
       "  </thead>\n",
       "  <tbody>\n",
       "    <tr>\n",
       "      <th>23310</th>\n",
       "      <td>United Republic of Tanzania</td>\n",
       "      <td>1975</td>\n",
       "      <td>0.9 [0.4-1.8]</td>\n",
       "      <td>Both sexes</td>\n",
       "      <td>0.9</td>\n",
       "      <td>NaN</td>\n",
       "    </tr>\n",
       "    <tr>\n",
       "      <th>23436</th>\n",
       "      <td>United States of America</td>\n",
       "      <td>1975</td>\n",
       "      <td>11.9 [9.3-14.8]</td>\n",
       "      <td>Both sexes</td>\n",
       "      <td>11.9</td>\n",
       "      <td>NaN</td>\n",
       "    </tr>\n",
       "    <tr>\n",
       "      <th>23562</th>\n",
       "      <td>Uruguay</td>\n",
       "      <td>1975</td>\n",
       "      <td>11.4 [7.3-16.3]</td>\n",
       "      <td>Both sexes</td>\n",
       "      <td>11.4</td>\n",
       "      <td>NaN</td>\n",
       "    </tr>\n",
       "    <tr>\n",
       "      <th>23688</th>\n",
       "      <td>Uzbekistan</td>\n",
       "      <td>1975</td>\n",
       "      <td>4.4 [2.3-7.6]</td>\n",
       "      <td>Both sexes</td>\n",
       "      <td>4.4</td>\n",
       "      <td>NaN</td>\n",
       "    </tr>\n",
       "    <tr>\n",
       "      <th>23814</th>\n",
       "      <td>Vanuatu</td>\n",
       "      <td>1975</td>\n",
       "      <td>5.6 [2.7-9.8]</td>\n",
       "      <td>Both sexes</td>\n",
       "      <td>5.6</td>\n",
       "      <td>NaN</td>\n",
       "    </tr>\n",
       "    <tr>\n",
       "      <th>23940</th>\n",
       "      <td>Venezuela (Bolivarian Republic of)</td>\n",
       "      <td>1975</td>\n",
       "      <td>9.6 [5.9-14.1]</td>\n",
       "      <td>Both sexes</td>\n",
       "      <td>9.6</td>\n",
       "      <td>NaN</td>\n",
       "    </tr>\n",
       "    <tr>\n",
       "      <th>24066</th>\n",
       "      <td>Viet Nam</td>\n",
       "      <td>1975</td>\n",
       "      <td>0.1 [0.0-0.3]</td>\n",
       "      <td>Both sexes</td>\n",
       "      <td>0.1</td>\n",
       "      <td>NaN</td>\n",
       "    </tr>\n",
       "    <tr>\n",
       "      <th>24192</th>\n",
       "      <td>Yemen</td>\n",
       "      <td>1975</td>\n",
       "      <td>2.8 [1.3-5.4]</td>\n",
       "      <td>Both sexes</td>\n",
       "      <td>2.8</td>\n",
       "      <td>NaN</td>\n",
       "    </tr>\n",
       "    <tr>\n",
       "      <th>24318</th>\n",
       "      <td>Zambia</td>\n",
       "      <td>1975</td>\n",
       "      <td>1.5 [0.7-3.0]</td>\n",
       "      <td>Both sexes</td>\n",
       "      <td>1.5</td>\n",
       "      <td>NaN</td>\n",
       "    </tr>\n",
       "    <tr>\n",
       "      <th>24444</th>\n",
       "      <td>Zimbabwe</td>\n",
       "      <td>1975</td>\n",
       "      <td>3.7 [1.7-6.5]</td>\n",
       "      <td>Both sexes</td>\n",
       "      <td>3.7</td>\n",
       "      <td>NaN</td>\n",
       "    </tr>\n",
       "  </tbody>\n",
       "</table>\n",
       "</div>"
      ],
      "text/plain": [
       "                                  Country  Year      Obesity (%)         Sex  \\\n",
       "23310         United Republic of Tanzania  1975    0.9 [0.4-1.8]  Both sexes   \n",
       "23436            United States of America  1975  11.9 [9.3-14.8]  Both sexes   \n",
       "23562                             Uruguay  1975  11.4 [7.3-16.3]  Both sexes   \n",
       "23688                          Uzbekistan  1975    4.4 [2.3-7.6]  Both sexes   \n",
       "23814                             Vanuatu  1975    5.6 [2.7-9.8]  Both sexes   \n",
       "23940  Venezuela (Bolivarian Republic of)  1975   9.6 [5.9-14.1]  Both sexes   \n",
       "24066                            Viet Nam  1975    0.1 [0.0-0.3]  Both sexes   \n",
       "24192                               Yemen  1975    2.8 [1.3-5.4]  Both sexes   \n",
       "24318                              Zambia  1975    1.5 [0.7-3.0]  Both sexes   \n",
       "24444                            Zimbabwe  1975    3.7 [1.7-6.5]  Both sexes   \n",
       "\n",
       "       Obesity  Obesity Change  \n",
       "23310      0.9             NaN  \n",
       "23436     11.9             NaN  \n",
       "23562     11.4             NaN  \n",
       "23688      4.4             NaN  \n",
       "23814      5.6             NaN  \n",
       "23940      9.6             NaN  \n",
       "24066      0.1             NaN  \n",
       "24192      2.8             NaN  \n",
       "24318      1.5             NaN  \n",
       "24444      3.7             NaN  "
      ]
     },
     "execution_count": 25,
     "metadata": {},
     "output_type": "execute_result"
    }
   ],
   "source": [
    "df_obesity_country_min"
   ]
  },
  {
   "cell_type": "markdown",
   "id": "efficient-buyer",
   "metadata": {},
   "source": [
    "- Quais os países com maiores e menores níveis percetuais de obesidade em 2015?"
   ]
  },
  {
   "cell_type": "code",
   "execution_count": null,
   "id": "violent-warren",
   "metadata": {},
   "outputs": [],
   "source": []
  },
  {
   "cell_type": "markdown",
   "id": "average-holiday",
   "metadata": {},
   "source": [
    "- Qual a diferença média percentual de obesidade entre sexos ao longo dos anos para o Brasil?"
   ]
  },
  {
   "cell_type": "code",
   "execution_count": null,
   "id": "later-occurrence",
   "metadata": {},
   "outputs": [],
   "source": []
  },
  {
   "cell_type": "markdown",
   "id": "rising-exhaust",
   "metadata": {},
   "source": [
    "- Você conseguiria plotar um gráfico mostrando a evolução da obesidade para ambos sexos no mundo?"
   ]
  },
  {
   "cell_type": "code",
   "execution_count": 19,
   "id": "senior-recruitment",
   "metadata": {},
   "outputs": [
    {
     "ename": "NameError",
     "evalue": "name 'df_both' is not defined",
     "output_type": "error",
     "traceback": [
      "\u001b[1;31m---------------------------------------------------------------------------\u001b[0m",
      "\u001b[1;31mNameError\u001b[0m                                 Traceback (most recent call last)",
      "Cell \u001b[1;32mIn[19], line 1\u001b[0m\n\u001b[1;32m----> 1\u001b[0m \u001b[43mdf_both\u001b[49m\u001b[38;5;241m.\u001b[39mplot()\n",
      "\u001b[1;31mNameError\u001b[0m: name 'df_both' is not defined"
     ]
    }
   ],
   "source": [
    "df_both.plot()"
   ]
  },
  {
   "cell_type": "markdown",
   "id": "labeled-rainbow",
   "metadata": {},
   "source": [
    "## Perguntas - GDP Per Person (1901-2011)"
   ]
  },
  {
   "cell_type": "code",
   "execution_count": null,
   "id": "thermal-breeding",
   "metadata": {},
   "outputs": [],
   "source": [
    "df_gdp = pd.read_csv(\"Datasets/GDP.csv\", decimal=\".\")"
   ]
  },
  {
   "cell_type": "markdown",
   "id": "suffering-guitar",
   "metadata": {},
   "source": [
    "- Limpe o conjunto de dados, convertendo strings em datas ou float, quando necessário."
   ]
  },
  {
   "cell_type": "code",
   "execution_count": null,
   "id": "fundamental-occasions",
   "metadata": {},
   "outputs": [],
   "source": []
  },
  {
   "cell_type": "markdown",
   "id": "studied-validity",
   "metadata": {},
   "source": [
    "- Você conseguiria informar o primeiro valor registrado de cada país?"
   ]
  },
  {
   "cell_type": "code",
   "execution_count": null,
   "id": "frequent-rental",
   "metadata": {},
   "outputs": [],
   "source": []
  },
  {
   "cell_type": "markdown",
   "id": "tutorial-softball",
   "metadata": {},
   "source": [
    "- Informe as regiões com maiores crescimentos de PIB per capita no século passado."
   ]
  },
  {
   "cell_type": "code",
   "execution_count": null,
   "id": "given-colorado",
   "metadata": {},
   "outputs": [],
   "source": []
  },
  {
   "cell_type": "markdown",
   "id": "textile-afternoon",
   "metadata": {},
   "source": [
    "- Preecha os anos ausentes em cada país com uma estimativa, baseada na diferença entre o próximo registro e o anterior."
   ]
  },
  {
   "cell_type": "code",
   "execution_count": null,
   "id": "hydraulic-confidentiality",
   "metadata": {},
   "outputs": [],
   "source": []
  },
  {
   "cell_type": "markdown",
   "id": "revised-helicopter",
   "metadata": {},
   "source": [
    "### DESAFIOS\n",
    "- Você conseguiria criar um mapa do gdp ou da obesidade no mundo ao longo dos anos?"
   ]
  },
  {
   "cell_type": "code",
   "execution_count": null,
   "id": "advised-sample",
   "metadata": {},
   "outputs": [],
   "source": []
  },
  {
   "cell_type": "markdown",
   "id": "lesbian-flight",
   "metadata": {},
   "source": [
    "- Há uma relação entre níveis de obesidade e gdp per capita?"
   ]
  },
  {
   "cell_type": "code",
   "execution_count": null,
   "id": "fluid-enemy",
   "metadata": {},
   "outputs": [],
   "source": []
  }
 ],
 "metadata": {
  "kernelspec": {
   "display_name": "base",
   "language": "python",
   "name": "python3"
  },
  "language_info": {
   "codemirror_mode": {
    "name": "ipython",
    "version": 3
   },
   "file_extension": ".py",
   "mimetype": "text/x-python",
   "name": "python",
   "nbconvert_exporter": "python",
   "pygments_lexer": "ipython3",
   "version": "3.9.19"
  }
 },
 "nbformat": 4,
 "nbformat_minor": 5
}
