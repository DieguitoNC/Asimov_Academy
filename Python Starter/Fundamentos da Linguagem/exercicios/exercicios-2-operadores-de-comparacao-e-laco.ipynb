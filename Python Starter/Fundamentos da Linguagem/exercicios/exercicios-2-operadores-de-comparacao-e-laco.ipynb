{
 "cells": [
  {
   "cell_type": "markdown",
   "metadata": {},
   "source": [
    "<img src=\"https://asimov.academy/wp-content/uploads/2021/01/logo.png\" width=\"200\"/>\n",
    "_____________________________________________\n",
    "\n",
    "## Exercícios #2 - Operadores de comparação e laços\n"
   ]
  },
  {
   "cell_type": "markdown",
   "metadata": {},
   "source": [
    "### Exercício 1\n",
    "Faça um programa para a leitura de duas notas parciais de um aluno. O programa deve calcular a média alcançada por aluno e apresentar:\n",
    "- A mensagem \"Aprovado\", se a média alcançada for maior ou igual a 7;\n",
    "- A mensagem \"Reprovado\", se a média for menor do que 7;\n",
    "- A mensagem \"Aprovado com Distinção\", se a média for igual a 10."
   ]
  },
  {
   "cell_type": "code",
   "execution_count": 40,
   "metadata": {},
   "outputs": [
    {
     "name": "stdout",
     "output_type": "stream",
     "text": [
      "O aluno foi Reprovado e sua média foi 4.5\n"
     ]
    }
   ],
   "source": [
    "average_note = lambda n1,n2: (n1+n2) / 2\n",
    "\n",
    "finish_calc = average_note(1,8)\n",
    "\n",
    "approved_or_not(finish_calc)\n",
    "\n",
    "\n",
    "\n",
    "def approved_or_not(finish_calc):\n",
    "    if finish_calc >=7 and finish_calc !=0:\n",
    "        return print(\"O aluno foi Aprovado e sua média foi {}\".format(finish_calc))\n",
    "    elif finish_calc <7:\n",
    "        return print(\"O aluno foi Reprovado e sua média foi {}\".format(finish_calc))\n",
    "    else:\n",
    "        return print(\"O aluno foi Aprovado com distinção e sua média foi {}\".format(finish_calc))\n",
    "\n",
    "\n",
    "\n",
    "\n",
    "\n"
   ]
  },
  {
   "cell_type": "markdown",
   "metadata": {},
   "source": [
    "### Exercício 2\n",
    "Escreva um script que leia três números e mostre o maior e o menor deles."
   ]
  },
  {
   "cell_type": "code",
   "execution_count": 84,
   "metadata": {},
   "outputs": [
    {
     "name": "stdout",
     "output_type": "stream",
     "text": [
      "101\n",
      "22\n"
     ]
    }
   ],
   "source": [
    "list = [101,50,22]\n",
    "\n",
    "\n",
    "list_sorted = sorted(list)\n",
    "\n",
    "minimum_n = list_sorted[0]\n",
    "max_n = list_sorted[-1]\n",
    "\n",
    "print(max_n)\n",
    "print(minimum_n)\n",
    "\n",
    "\n",
    "\n",
    "\n",
    "\n",
    "\n",
    "\n"
   ]
  },
  {
   "cell_type": "markdown",
   "metadata": {},
   "source": [
    "### Exercício 3 \n",
    "Nome na vertical em escada. \n",
    "\n",
    "F<br>\n",
    "FU<br>\n",
    "FUL<br>\n",
    "FULA<br>\n",
    "FULAN<br>\n",
    "FULANO<br>"
   ]
  },
  {
   "cell_type": "code",
   "execution_count": 94,
   "metadata": {},
   "outputs": [
    {
     "name": "stdout",
     "output_type": "stream",
     "text": [
      "Informe seu nome: \n",
      "\n",
      "D\n",
      "Di\n",
      "Die\n",
      "Dieg\n",
      "Diego\n"
     ]
    }
   ],
   "source": [
    "print(\"Informe seu nome: \")\n",
    "nome = input()\n",
    "\n",
    "for i in range(len(nome)+1):\n",
    "    print(nome[:i])\n",
    "\n",
    "    "
   ]
  },
  {
   "cell_type": "markdown",
   "metadata": {},
   "source": [
    "### Exercício 4\n",
    "A série de Fibonacci é formada pela seqüência 1,1,2,3,5,8,13,21,34,55,... (o próximo termo, a partir do terceiro, é sempre gerado a partir do somatório dos últimos dois). Faça um programa capaz de gerar a série até o n−ésimo termo (onde o valor n deve ser inserido pelo usuário)."
   ]
  },
  {
   "cell_type": "code",
   "execution_count": 97,
   "metadata": {},
   "outputs": [
    {
     "name": "stdout",
     "output_type": "stream",
     "text": [
      "Qual o tamanho da sequencia de Fibonnaci você deseja ver?\n",
      "1\n",
      "1\n",
      "2\n",
      "3\n",
      "5\n",
      "8\n",
      "13\n",
      "21\n",
      "34\n",
      "55\n",
      "89\n",
      "144\n"
     ]
    }
   ],
   "source": [
    "print(\"Qual o tamanho da sequencia de Fibonnaci você deseja ver?\")\n",
    "\n",
    "n = int(input())\n",
    "\n",
    "v0 = 0\n",
    "v1 = 1\n",
    "v = 1\n",
    "\n",
    "print(1)\n",
    "for i in range(n+1):\n",
    "    print(v)\n",
    "    v0=v1\n",
    "    v1=v\n",
    "    v=v1+v0"
   ]
  },
  {
   "cell_type": "markdown",
   "metadata": {},
   "source": [
    "### Exercício 5\n",
    "Faça um programa que leia e valide as seguintes informações:\n",
    "- Nome: maior que 3 caracteres;\n",
    "- Idade: entre 0 e 150;\n",
    "- Salário: maior que zero;\n",
    "- Sexo: 'f' ou 'm';\n",
    "- Estado Civil: 's', 'c', 'v', 'd';"
   ]
  },
  {
   "cell_type": "code",
   "execution_count": 15,
   "metadata": {},
   "outputs": [
    {
     "name": "stdout",
     "output_type": "stream",
     "text": [
      "Digite um nome com mais de 3 caracteres\n"
     ]
    },
    {
     "ename": "UnboundLocalError",
     "evalue": "cannot access local variable 'age' where it is not associated with a value",
     "output_type": "error",
     "traceback": [
      "\u001b[1;31m---------------------------------------------------------------------------\u001b[0m",
      "\u001b[1;31mUnboundLocalError\u001b[0m                         Traceback (most recent call last)",
      "Cell \u001b[1;32mIn[15], line 30\u001b[0m\n\u001b[0;32m     27\u001b[0m     \u001b[38;5;28;01melse\u001b[39;00m:\n\u001b[0;32m     28\u001b[0m         \u001b[38;5;28mprint\u001b[39m(age)\n\u001b[1;32m---> 30\u001b[0m \u001b[43mtest_age\u001b[49m\u001b[43m(\u001b[49m\u001b[43mage_int\u001b[49m\u001b[43m)\u001b[49m\n",
      "Cell \u001b[1;32mIn[15], line 28\u001b[0m, in \u001b[0;36mtest_age\u001b[1;34m(age_int)\u001b[0m\n\u001b[0;32m     26\u001b[0m         age_int \u001b[38;5;241m=\u001b[39m \u001b[38;5;28mint\u001b[39m(age)\n\u001b[0;32m     27\u001b[0m \u001b[38;5;28;01melse\u001b[39;00m:\n\u001b[1;32m---> 28\u001b[0m     \u001b[38;5;28mprint\u001b[39m(\u001b[43mage\u001b[49m)\n",
      "\u001b[1;31mUnboundLocalError\u001b[0m: cannot access local variable 'age' where it is not associated with a value"
     ]
    }
   ],
   "source": [
    "name = input(\"Insira seu nome: \")\n",
    "\n",
    "\n",
    "len_name = len(name)\n",
    "\n",
    "def test_name(len_name):\n",
    "    if len_name <=3:\n",
    "        while len_name <= 3:\n",
    "            print(\"Digite um nome com mais de 3 caracteres\")\n",
    "            name = input(\"Insira um nome válido: \")\n",
    "            len_name = len(name)\n",
    "    else:\n",
    "        print(name)\n",
    "\n",
    "test_name(len_name)\n",
    "\n",
    "age = input(\"Digite sua idade:\")\n",
    "\n",
    "age_int = int(age)\n",
    "\n",
    "def test_age(age_int):\n",
    "    if age_int <=0 or age_int >150:\n",
    "        while age_int <= 3:\n",
    "            print(\"Digite uma idade entre 0 e 150\")\n",
    "            age = input(\"Insira um nome válido: \")\n",
    "            age_int = int(age)\n",
    "    else:\n",
    "        print(age)\n",
    "        \n",
    "test_age(age_int)"
   ]
  },
  {
   "cell_type": "markdown",
   "metadata": {},
   "source": [
    "### Exercício 6\n",
    "Faça um programa que peça um número inteiro e determine se ele é ou não um número primo. Um número primo é aquele que é divisível somente por ele mesmo e por 1. \n",
    "Dica: Utilize o operador aritmético `%`, que retorna o resto da divisão de dois números."
   ]
  },
  {
   "cell_type": "code",
   "execution_count": 3,
   "metadata": {},
   "outputs": [
    {
     "name": "stdout",
     "output_type": "stream",
     "text": [
      "O número digitado é primo !\n"
     ]
    }
   ],
   "source": [
    "num = input(\"Digite um número inteiro\")\n",
    "num_int = int(num)\n",
    "def prime_number(num):\n",
    "    if num % num == 0 and num / 1 == num:\n",
    "        print(\"O número digitado é primo !\")\n",
    "    else:\n",
    "        print(\"O numero nao e primo!\")\n",
    "\n",
    "prime_number(num_int)\n",
    "    "
   ]
  },
  {
   "cell_type": "code",
   "execution_count": null,
   "metadata": {},
   "outputs": [],
   "source": []
  }
 ],
 "metadata": {
  "kernelspec": {
   "display_name": "Python 3",
   "language": "python",
   "name": "python3"
  },
  "language_info": {
   "codemirror_mode": {
    "name": "ipython",
    "version": 3
   },
   "file_extension": ".py",
   "mimetype": "text/x-python",
   "name": "python",
   "nbconvert_exporter": "python",
   "pygments_lexer": "ipython3",
   "version": "3.12.1"
  }
 },
 "nbformat": 4,
 "nbformat_minor": 4
}
