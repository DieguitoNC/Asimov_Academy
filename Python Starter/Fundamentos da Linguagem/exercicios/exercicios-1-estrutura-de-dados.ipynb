{
 "cells": [
  {
   "cell_type": "markdown",
   "metadata": {},
   "source": [
    "<img src=\"https://asimov.academy/wp-content/uploads/2021/01/logo.png\" width=\"200\"/>\n",
    "_____________________________________________\n",
    "\n",
    "## Exercícios #1 - Estruturas de dados\n"
   ]
  },
  {
   "cell_type": "markdown",
   "metadata": {},
   "source": [
    "### Exercício 1\n",
    "Utilizando o built-in method input(), crie um programa que receba a altura e o peso de uma pessoa e imprima na tela o IMC da mesma."
   ]
  },
  {
   "cell_type": "code",
   "execution_count": null,
   "metadata": {},
   "outputs": [
    {
     "name": "stdout",
     "output_type": "stream",
     "text": [
      "Seu IMC é:  24.074074074074073\n"
     ]
    }
   ],
   "source": [
    "height = float(input(\"Insira o valor da sua altura em CM: \"))\n",
    "weight = float(input(\"Insira o valor do seu peso: \"))\n",
    "\n",
    "imc = weight / (height ** 2)\n",
    "print(\"Seu IMC é: \", imc)"
   ]
  },
  {
   "cell_type": "markdown",
   "metadata": {},
   "source": [
    "### Exercício 2 \n",
    "Escreva um programa que pergunte o nome completo do usuário e cumprimente o mesmo pelo primeiro nome."
   ]
  },
  {
   "cell_type": "code",
   "execution_count": 14,
   "metadata": {},
   "outputs": [
    {
     "name": "stdout",
     "output_type": "stream",
     "text": [
      "Olá Diego Seja bem vindo !\n"
     ]
    }
   ],
   "source": [
    "name = input(\"Digite seu nome completo: \")\n",
    "split_name = name.split()\n",
    "first_name = split_name[0]\n",
    "\n",
    "print(\"Olá\",first_name, \"Seja bem vindo !\" )\n"
   ]
  },
  {
   "cell_type": "markdown",
   "metadata": {},
   "source": [
    "### Exercício 3\n",
    "Desenho um código que extraia o domínio de um e-mail informado."
   ]
  },
  {
   "cell_type": "code",
   "execution_count": 22,
   "metadata": {},
   "outputs": [
    {
     "data": {
      "text/plain": [
       "'gmail.com'"
      ]
     },
     "execution_count": 22,
     "metadata": {},
     "output_type": "execute_result"
    }
   ],
   "source": [
    "email = \"example@gmail.com\"\n",
    "\n",
    "split_email = email.split(\"@\")\n",
    "split_email[1]\n",
    "\n"
   ]
  },
  {
   "cell_type": "markdown",
   "metadata": {},
   "source": [
    "### Exercício 4 \n",
    "Faça um programa para uma loja de tintas. A pessoa informa a área em m2 que deseja pintar, e o script calculará a quantidade de latas de tinta que a pessoa deve comprar e o valor. Considere que cada litro de tinta pinta 3m2, que cada lata contém 18L e que custa R$ 80."
   ]
  },
  {
   "cell_type": "code",
   "execution_count": 35,
   "metadata": {},
   "outputs": [
    {
     "name": "stdout",
     "output_type": "stream",
     "text": [
      "One can could paint 54 m2\n",
      "The quantity of cans that you need is: 3\n",
      "The price that you need to pay is: 240\n"
     ]
    }
   ],
   "source": [
    "area = float(input(\"Digite a área que será pintada: \"))\n",
    "\n",
    "area_liter_of_paint = 3\n",
    "volume_can = 18\n",
    "price_can = 80\n",
    "\n",
    "area_one_can = volume_can * area_liter_of_paint\n",
    "print(\"One can could paint\", area_one_can,\"m2\")\n",
    "\n",
    "quantity_of_cans = int(area / area_one_can)\n",
    "print(\"The quantity of cans that you need is:\", quantity_of_cans)\n",
    "\n",
    "price_to_paint = quantity_of_cans * price_can\n",
    "print(\"The price that you need to pay is:\", price_to_paint)\n",
    "\n",
    "\n",
    "\n"
   ]
  },
  {
   "cell_type": "markdown",
   "metadata": {},
   "source": [
    "### Exercício 5\n",
    "Faça um Programa que pergunte quanto você ganha por hora e o número de horas trabalhadas no mês. Calcule e mostre o total do seu salário no referido mês, sabendo-se que são descontados 11% para o Imposto de Renda, 8% para o INSS e 5% para o sindicato, faça um programa que nos dê:\n",
    "1. Salário bruto.\n",
    "2. Quanto pagou ao INSS.\n",
    "3. Quanto pagou ao sindicato.\n",
    "4. O salário líquido."
   ]
  },
  {
   "cell_type": "code",
   "execution_count": 38,
   "metadata": {},
   "outputs": [
    {
     "name": "stdout",
     "output_type": "stream",
     "text": [
      "O salário bruto é de: 3200.0\n",
      "O valor pago para o INSS é de: 352.0\n",
      "O valor pago ao sindicato é de: 131.008\n",
      "O salário líquido é de: 2489.152\n"
     ]
    }
   ],
   "source": [
    "amount_per_hour = float(input(\"How much you gain per hour ? \"))\n",
    "how_many_hours_monthly = int(input(\"How much hours you work on month\"))\n",
    "brute_monthly_salary = amount_per_hour * how_many_hours_monthly\n",
    "inss_tax = brute_monthly_salary * 0.11\n",
    "ir_tax = (brute_monthly_salary - inss_tax) * 0.08\n",
    "union_tax = (brute_monthly_salary - ir_tax - inss_tax) * 0.05\n",
    "net_salary = brute_monthly_salary - (inss_tax + union_tax + ir_tax)\n",
    "\n",
    "print(\"O salário bruto é de:\", brute_monthly_salary)\n",
    "print(\"O valor pago para o INSS é de:\", inss_tax)\n",
    "print(\"O valor pago ao sindicato é de:\", union_tax)\n",
    "print(\"O salário líquido é de:\", net_salary)\n"
   ]
  },
  {
   "cell_type": "code",
   "execution_count": null,
   "metadata": {},
   "outputs": [],
   "source": []
  }
 ],
 "metadata": {
  "kernelspec": {
   "display_name": "Python 3",
   "language": "python",
   "name": "python3"
  },
  "language_info": {
   "codemirror_mode": {
    "name": "ipython",
    "version": 3
   },
   "file_extension": ".py",
   "mimetype": "text/x-python",
   "name": "python",
   "nbconvert_exporter": "python",
   "pygments_lexer": "ipython3",
   "version": "3.12.1"
  }
 },
 "nbformat": 4,
 "nbformat_minor": 4
}
