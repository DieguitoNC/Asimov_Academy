{
 "cells": [
  {
   "cell_type": "markdown",
   "id": "67a0c878",
   "metadata": {},
   "source": [
    "# If, elif e else\n"
   ]
  },
  {
   "cell_type": "code",
   "execution_count": 2,
   "id": "e660b8a0",
   "metadata": {},
   "outputs": [
    {
     "name": "stdout",
     "output_type": "stream",
     "text": [
      "Está quente.\n"
     ]
    }
   ],
   "source": [
    "temp = 31\n",
    "\n",
    "if temp > 30:\n",
    "    print(\"Está quente.\")"
   ]
  },
  {
   "cell_type": "code",
   "execution_count": 5,
   "id": "53dd624a",
   "metadata": {},
   "outputs": [
    {
     "name": "stdout",
     "output_type": "stream",
     "text": [
      "A temperatura está normal\n"
     ]
    }
   ],
   "source": [
    "temp = 5\n",
    "\n",
    "if temp >= 30:\n",
    "    print(\"Está quente.\")\n",
    "elif temp < 0:\n",
    "    print(\"Está muito frio!\")\n",
    "else:\n",
    "    print(\"A temperatura está normal\")"
   ]
  },
  {
   "cell_type": "code",
   "execution_count": null,
   "id": "3d5d412f",
   "metadata": {},
   "outputs": [],
   "source": []
  }
 ],
 "metadata": {
  "kernelspec": {
   "display_name": "Python 3",
   "language": "python",
   "name": "python3"
  },
  "language_info": {
   "codemirror_mode": {
    "name": "ipython",
    "version": 3
   },
   "file_extension": ".py",
   "mimetype": "text/x-python",
   "name": "python",
   "nbconvert_exporter": "python",
   "pygments_lexer": "ipython3",
   "version": "3.12.1"
  }
 },
 "nbformat": 4,
 "nbformat_minor": 5
}
