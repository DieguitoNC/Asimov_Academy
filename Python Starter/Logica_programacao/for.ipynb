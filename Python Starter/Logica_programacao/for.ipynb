{
 "cells": [
  {
   "cell_type": "markdown",
   "id": "cd005bae",
   "metadata": {},
   "source": [
    "# For\n"
   ]
  },
  {
   "cell_type": "code",
   "execution_count": 1,
   "id": "d6a59a24",
   "metadata": {},
   "outputs": [
    {
     "data": {
      "text/plain": [
       "[0, 1, 2, 3, 4, 5, 6, 7, 8, 9]"
      ]
     },
     "execution_count": 1,
     "metadata": {},
     "output_type": "execute_result"
    }
   ],
   "source": [
    "list(range(10))"
   ]
  },
  {
   "cell_type": "code",
   "execution_count": 3,
   "id": "82b9826a",
   "metadata": {},
   "outputs": [
    {
     "name": "stdout",
     "output_type": "stream",
     "text": [
      "ola\n",
      "0\n",
      "ola\n",
      "1\n",
      "ola\n",
      "2\n",
      "ola\n",
      "3\n",
      "ola\n",
      "4\n",
      "ola\n",
      "5\n",
      "ola\n",
      "6\n",
      "ola\n",
      "7\n",
      "ola\n",
      "8\n",
      "ola\n",
      "9\n"
     ]
    }
   ],
   "source": [
    "for i in range(10):\n",
    "    print(\"ola\")\n",
    "    print(i)"
   ]
  },
  {
   "cell_type": "code",
   "execution_count": 4,
   "id": "b0fb6e85",
   "metadata": {},
   "outputs": [
    {
     "name": "stdout",
     "output_type": "stream",
     "text": [
      "a\n",
      "b\n",
      "c\n"
     ]
    }
   ],
   "source": [
    "l = [\"a\", \"b\", \"c\"]\n",
    "for i in l:\n",
    "    print(i)"
   ]
  },
  {
   "cell_type": "code",
   "execution_count": 5,
   "id": "a9ca4e13",
   "metadata": {},
   "outputs": [
    {
     "name": "stdout",
     "output_type": "stream",
     "text": [
      "D\n",
      "i\n",
      "e\n",
      "g\n",
      "o\n",
      "d\n"
     ]
    }
   ],
   "source": [
    "l = \"Diegod\"\n",
    "for i in l:\n",
    "    print(i)"
   ]
  },
  {
   "cell_type": "code",
   "execution_count": 6,
   "id": "2a3cf621",
   "metadata": {},
   "outputs": [
    {
     "name": "stdout",
     "output_type": "stream",
     "text": [
      "0 é par\n",
      "2 é par\n",
      "4 é par\n",
      "6 é par\n",
      "8 é par\n",
      "10 é par\n",
      "12 é par\n",
      "14 é par\n",
      "16 é par\n",
      "18 é par\n",
      "20 é par\n",
      "22 é par\n",
      "24 é par\n",
      "26 é par\n",
      "28 é par\n",
      "30 é par\n",
      "32 é par\n",
      "34 é par\n",
      "36 é par\n",
      "38 é par\n",
      "40 é par\n",
      "42 é par\n",
      "44 é par\n",
      "46 é par\n",
      "48 é par\n",
      "50 é par\n",
      "52 é par\n",
      "54 é par\n",
      "56 é par\n",
      "58 é par\n",
      "60 é par\n",
      "62 é par\n",
      "64 é par\n",
      "66 é par\n",
      "68 é par\n",
      "70 é par\n",
      "72 é par\n",
      "74 é par\n",
      "76 é par\n",
      "78 é par\n",
      "80 é par\n",
      "82 é par\n",
      "84 é par\n",
      "86 é par\n",
      "88 é par\n",
      "90 é par\n",
      "92 é par\n",
      "94 é par\n",
      "96 é par\n",
      "98 é par\n"
     ]
    }
   ],
   "source": [
    "for i in range(100):\n",
    "    if i % 2 ==0:\n",
    "        print(\"{} é par\".format(i))"
   ]
  },
  {
   "cell_type": "code",
   "execution_count": null,
   "id": "6caac4b2",
   "metadata": {},
   "outputs": [],
   "source": []
  }
 ],
 "metadata": {
  "kernelspec": {
   "display_name": "Python 3",
   "language": "python",
   "name": "python3"
  },
  "language_info": {
   "codemirror_mode": {
    "name": "ipython",
    "version": 3
   },
   "file_extension": ".py",
   "mimetype": "text/x-python",
   "name": "python",
   "nbconvert_exporter": "python",
   "pygments_lexer": "ipython3",
   "version": "3.12.1"
  }
 },
 "nbformat": 4,
 "nbformat_minor": 5
}
