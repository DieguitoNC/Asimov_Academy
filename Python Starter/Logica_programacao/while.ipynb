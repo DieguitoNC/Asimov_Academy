{
 "cells": [
  {
   "cell_type": "markdown",
   "id": "b5a53411",
   "metadata": {},
   "source": [
    "# While\n"
   ]
  },
  {
   "cell_type": "code",
   "execution_count": 2,
   "id": "2a31955f",
   "metadata": {},
   "outputs": [
    {
     "name": "stdout",
     "output_type": "stream",
     "text": [
      "O valor de x é: 0\n",
      "O valor de x é: 1\n",
      "O valor de x é: 2\n",
      "O valor de x é: 3\n",
      "O valor de x é: 4\n",
      "O valor de x é: 5\n",
      "O valor de x é: 6\n",
      "O valor de x é: 7\n",
      "O valor de x é: 8\n",
      "O valor de x é: 9\n"
     ]
    }
   ],
   "source": [
    "x = 0\n",
    "\n",
    "while x < 10:\n",
    "    print(\"O valor de x é: {}\".format(x))\n",
    "    x = x + 1"
   ]
  },
  {
   "cell_type": "code",
   "execution_count": 4,
   "id": "5cd92072",
   "metadata": {},
   "outputs": [
    {
     "name": "stdout",
     "output_type": "stream",
     "text": [
      "O valor de x é: 0\n",
      "O valor de x é: 1\n",
      "O valor de x é: 2\n",
      "O valor de x é: 3\n",
      "O valor de x é: 4\n",
      "O valor de x é: 5\n",
      "O valor de x é: 6\n",
      "O valor de x é: 7\n",
      "O valor de x é: 8\n",
      "O valor de x é: 9\n"
     ]
    }
   ],
   "source": [
    "x = 0\n",
    "\n",
    "while x < 10:\n",
    "    print(\"O valor de x é: {}\".format(x))\n",
    "    x += 1 # x = x + 1"
   ]
  },
  {
   "cell_type": "code",
   "execution_count": null,
   "id": "25b723fd",
   "metadata": {},
   "outputs": [
    {
     "name": "stdout",
     "output_type": "stream",
     "text": [
      "O valor de x é: 0\n",
      "X ainda é menor que 10. Incrementando...\n",
      "O valor de x é: 1\n",
      "X ainda é menor que 10. Incrementando...\n",
      "O valor de x é: 2\n",
      "X ainda é menor que 10. Incrementando...\n",
      "O valor de x é: 3\n",
      "X ainda é menor que 10. Incrementando...\n",
      "O valor de x é: 4\n",
      "X ainda é menor que 10. Incrementando...\n",
      "O valor de x é: 5\n",
      "X ainda é menor que 10. Incrementando...\n",
      "O valor de x é: 6\n",
      "X ainda é menor que 10. Incrementando...\n",
      "O valor de x é: 7\n",
      "X ainda é menor que 10. Incrementando...\n",
      "O valor de x é: 8\n",
      "X ainda é menor que 10. Incrementando...\n",
      "O valor de x é: 9\n",
      "X ainda é menor que 10. Incrementando...\n",
      "Concluido\n"
     ]
    }
   ],
   "source": [
    "x = 0\n",
    "\n",
    "while x < 10:\n",
    "    print(\"O valor de x é: {}\".format(x))\n",
    "    print(\"X ainda é menor que 10. Incrementando...\")\n",
    "    x += 1 # x = x + 1\n",
    "else:\n",
    "    print(\"Concluido\")"
   ]
  },
  {
   "cell_type": "code",
   "execution_count": 10,
   "id": "238b4951",
   "metadata": {},
   "outputs": [
    {
     "name": "stdout",
     "output_type": "stream",
     "text": [
      "O valor de x é: 0\n",
      "O valor de x é: 1\n",
      "O valor de x é: 2\n",
      "O valor de x é: 3\n",
      "O valor de x é: 4\n",
      "O valor de x é: 5\n",
      "O valor de x é: 6\n",
      "O valor de x é: 7\n",
      "O valor de x é: 8\n",
      "O valor de x é: 9\n",
      "Concluido\n"
     ]
    }
   ],
   "source": [
    "# Continue\n",
    "x = 0\n",
    "\n",
    "while x < 10:\n",
    "    print(\"O valor de x é: {}\".format(x))\n",
    "    x += 1\n",
    "    continue\n",
    "    print(\"X ainda é menor que 10. Incrementando...\")\n",
    "else:\n",
    "    print(\"Concluido\")"
   ]
  },
  {
   "cell_type": "code",
   "execution_count": 12,
   "id": "96e0a3c0",
   "metadata": {},
   "outputs": [
    {
     "name": "stdout",
     "output_type": "stream",
     "text": [
      "O valor de x é: 0\n"
     ]
    }
   ],
   "source": [
    "# Break\n",
    "x = 0\n",
    "\n",
    "while x < 10:\n",
    "    print(\"O valor de x é: {}\".format(x))\n",
    "    x += 1\n",
    "    break\n",
    "    print(\"X ainda é menor que 10. Incrementando...\")\n",
    "else:\n",
    "    print(\"Concluido\")"
   ]
  },
  {
   "cell_type": "code",
   "execution_count": null,
   "id": "cd2a3f33",
   "metadata": {},
   "outputs": [],
   "source": [
    "for variavel in iteravel:\n",
    "    codigo\n",
    "    codigo"
   ]
  },
  {
   "cell_type": "code",
   "execution_count": null,
   "id": "7eca70d5",
   "metadata": {},
   "outputs": [],
   "source": [
    "while booleano:"
   ]
  }
 ],
 "metadata": {
  "kernelspec": {
   "display_name": "Python 3",
   "language": "python",
   "name": "python3"
  },
  "language_info": {
   "codemirror_mode": {
    "name": "ipython",
    "version": 3
   },
   "file_extension": ".py",
   "mimetype": "text/x-python",
   "name": "python",
   "nbconvert_exporter": "python",
   "pygments_lexer": "ipython3",
   "version": "3.12.1"
  }
 },
 "nbformat": 4,
 "nbformat_minor": 5
}
