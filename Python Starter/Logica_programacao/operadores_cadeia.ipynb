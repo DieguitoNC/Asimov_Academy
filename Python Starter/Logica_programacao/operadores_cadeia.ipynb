{
 "cells": [
  {
   "cell_type": "markdown",
   "id": "2c59b26e",
   "metadata": {},
   "source": [
    "## Operadores em Cadeia"
   ]
  },
  {
   "cell_type": "code",
   "execution_count": 1,
   "id": "5b4c8c7c",
   "metadata": {},
   "outputs": [
    {
     "data": {
      "text/plain": [
       "False"
      ]
     },
     "execution_count": 1,
     "metadata": {},
     "output_type": "execute_result"
    }
   ],
   "source": [
    "1 > 2 >3"
   ]
  },
  {
   "cell_type": "code",
   "execution_count": 2,
   "id": "8eb87173",
   "metadata": {},
   "outputs": [
    {
     "data": {
      "text/plain": [
       "False"
      ]
     },
     "execution_count": 2,
     "metadata": {},
     "output_type": "execute_result"
    }
   ],
   "source": [
    "1 > 2 and 2> 3 "
   ]
  },
  {
   "cell_type": "code",
   "execution_count": 3,
   "id": "6e399cf3",
   "metadata": {},
   "outputs": [
    {
     "data": {
      "text/plain": [
       "False"
      ]
     },
     "execution_count": 3,
     "metadata": {},
     "output_type": "execute_result"
    }
   ],
   "source": [
    "2 > 1 and 2 > 3 "
   ]
  },
  {
   "cell_type": "code",
   "execution_count": 4,
   "id": "f75f1cf8",
   "metadata": {},
   "outputs": [
    {
     "data": {
      "text/plain": [
       "True"
      ]
     },
     "execution_count": 4,
     "metadata": {},
     "output_type": "execute_result"
    }
   ],
   "source": [
    "2 > 1 or 2 > 3 "
   ]
  },
  {
   "cell_type": "code",
   "execution_count": 5,
   "id": "3e16b3c4",
   "metadata": {},
   "outputs": [
    {
     "data": {
      "text/plain": [
       "False"
      ]
     },
     "execution_count": 5,
     "metadata": {},
     "output_type": "execute_result"
    }
   ],
   "source": [
    "(2>1 or 2>3 ) and (2 > 11 or 2> 3)"
   ]
  },
  {
   "cell_type": "code",
   "execution_count": 6,
   "id": "b9abf777",
   "metadata": {},
   "outputs": [
    {
     "data": {
      "text/plain": [
       "True"
      ]
     },
     "execution_count": 6,
     "metadata": {},
     "output_type": "execute_result"
    }
   ],
   "source": [
    "True and True"
   ]
  }
 ],
 "metadata": {
  "kernelspec": {
   "display_name": "Python 3",
   "language": "python",
   "name": "python3"
  },
  "language_info": {
   "codemirror_mode": {
    "name": "ipython",
    "version": 3
   },
   "file_extension": ".py",
   "mimetype": "text/x-python",
   "name": "python",
   "nbconvert_exporter": "python",
   "pygments_lexer": "ipython3",
   "version": "3.12.1"
  }
 },
 "nbformat": 4,
 "nbformat_minor": 5
}
