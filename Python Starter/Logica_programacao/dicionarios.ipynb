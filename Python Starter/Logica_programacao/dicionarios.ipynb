{
 "cells": [
  {
   "cell_type": "markdown",
   "id": "06ae61f3",
   "metadata": {},
   "source": [
    "# Dicionários"
   ]
  },
  {
   "cell_type": "code",
   "execution_count": 4,
   "id": "2eab5434",
   "metadata": {},
   "outputs": [],
   "source": [
    "meu_dicionario = {\"nome\": \"Diego\", \"idade\": 23, \"profissão\": \"Analista de Produtos\", \"Jogos\": [\"Cs2\", \"LOL\"] }"
   ]
  },
  {
   "cell_type": "code",
   "execution_count": 8,
   "id": "3adbd371",
   "metadata": {},
   "outputs": [],
   "source": [
    "meu_dicionario[\"idade\"] = 31"
   ]
  },
  {
   "cell_type": "code",
   "execution_count": 9,
   "id": "fd3e56ce",
   "metadata": {},
   "outputs": [
    {
     "data": {
      "text/plain": [
       "{'nome': 'Diego',\n",
       " 'idade': 31,\n",
       " 'profissão': 'Analista de Produtos',\n",
       " 'Jogos': ['Cs2', 'LOL']}"
      ]
     },
     "execution_count": 9,
     "metadata": {},
     "output_type": "execute_result"
    }
   ],
   "source": [
    "meu_dicionario"
   ]
  },
  {
   "cell_type": "code",
   "execution_count": 10,
   "id": "5a460739",
   "metadata": {},
   "outputs": [],
   "source": [
    "meu_dicionario[\"cidade\"] = \"Guarulhos\""
   ]
  },
  {
   "cell_type": "code",
   "execution_count": 11,
   "id": "9c5190d3",
   "metadata": {},
   "outputs": [
    {
     "data": {
      "text/plain": [
       "{'nome': 'Diego',\n",
       " 'idade': 31,\n",
       " 'profissão': 'Analista de Produtos',\n",
       " 'Jogos': ['Cs2', 'LOL'],\n",
       " 'cidade': 'Guarulhos'}"
      ]
     },
     "execution_count": 11,
     "metadata": {},
     "output_type": "execute_result"
    }
   ],
   "source": [
    "meu_dicionario"
   ]
  },
  {
   "cell_type": "code",
   "execution_count": 12,
   "id": "a6eda5d9",
   "metadata": {},
   "outputs": [],
   "source": [
    "meu_dicionario[\"Variavel aleatoria\"] = {\"a\":1, \"b\":2}"
   ]
  },
  {
   "cell_type": "code",
   "execution_count": 13,
   "id": "108823e4",
   "metadata": {},
   "outputs": [
    {
     "data": {
      "text/plain": [
       "{'nome': 'Diego',\n",
       " 'idade': 31,\n",
       " 'profissão': 'Analista de Produtos',\n",
       " 'Jogos': ['Cs2', 'LOL'],\n",
       " 'cidade': 'Guarulhos',\n",
       " 'Variavel aleatoria': {'a': 1, 'b': 2}}"
      ]
     },
     "execution_count": 13,
     "metadata": {},
     "output_type": "execute_result"
    }
   ],
   "source": [
    "meu_dicionario"
   ]
  },
  {
   "cell_type": "code",
   "execution_count": 14,
   "id": "ae5db699",
   "metadata": {},
   "outputs": [
    {
     "data": {
      "text/plain": [
       "dict_keys(['nome', 'idade', 'profissão', 'Jogos', 'cidade', 'Variavel aleatoria'])"
      ]
     },
     "execution_count": 14,
     "metadata": {},
     "output_type": "execute_result"
    }
   ],
   "source": [
    "meu_dicionario.keys()"
   ]
  },
  {
   "cell_type": "code",
   "execution_count": 15,
   "id": "b0fb39f7",
   "metadata": {},
   "outputs": [
    {
     "data": {
      "text/plain": [
       "dict_values(['Diego', 31, 'Analista de Produtos', ['Cs2', 'LOL'], 'Guarulhos', {'a': 1, 'b': 2}])"
      ]
     },
     "execution_count": 15,
     "metadata": {},
     "output_type": "execute_result"
    }
   ],
   "source": [
    "meu_dicionario.values()"
   ]
  },
  {
   "cell_type": "code",
   "execution_count": 17,
   "id": "81fcbd7b",
   "metadata": {},
   "outputs": [
    {
     "data": {
      "text/plain": [
       "dict_items([('nome', 'Diego'), ('idade', 31), ('profissão', 'Analista de Produtos'), ('Jogos', ['Cs2', 'LOL']), ('cidade', 'Guarulhos'), ('Variavel aleatoria', {'a': 1, 'b': 2})])"
      ]
     },
     "execution_count": 17,
     "metadata": {},
     "output_type": "execute_result"
    }
   ],
   "source": [
    "meu_dicionario.items()"
   ]
  },
  {
   "cell_type": "code",
   "execution_count": null,
   "id": "8c1d75ba",
   "metadata": {},
   "outputs": [],
   "source": []
  }
 ],
 "metadata": {
  "kernelspec": {
   "display_name": "Python 3",
   "language": "python",
   "name": "python3"
  },
  "language_info": {
   "codemirror_mode": {
    "name": "ipython",
    "version": 3
   },
   "file_extension": ".py",
   "mimetype": "text/x-python",
   "name": "python",
   "nbconvert_exporter": "python",
   "pygments_lexer": "ipython3",
   "version": "3.12.1"
  }
 },
 "nbformat": 4,
 "nbformat_minor": 5
}
