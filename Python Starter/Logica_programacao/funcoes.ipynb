{
 "cells": [
  {
   "cell_type": "markdown",
   "id": "46d8f5d0",
   "metadata": {},
   "source": [
    "# Funções\n"
   ]
  },
  {
   "cell_type": "code",
   "execution_count": 4,
   "id": "f3b6ac47",
   "metadata": {},
   "outputs": [],
   "source": [
    "def diga_ola():\n",
    "    a = 1\n",
    "    print(\"ola\")\n",
    "\n"
   ]
  },
  {
   "cell_type": "code",
   "execution_count": 6,
   "id": "4bc1a85c",
   "metadata": {},
   "outputs": [
    {
     "name": "stdout",
     "output_type": "stream",
     "text": [
      "ola\n"
     ]
    }
   ],
   "source": [
    "diga_ola()"
   ]
  },
  {
   "cell_type": "code",
   "execution_count": 7,
   "id": "eb554c31",
   "metadata": {},
   "outputs": [],
   "source": [
    "def diga_ola(nome):\n",
    "    a = 1\n",
    "    print(\"ola, {}.\".format(nome))"
   ]
  },
  {
   "cell_type": "code",
   "execution_count": 8,
   "id": "8d0e1b80",
   "metadata": {},
   "outputs": [
    {
     "name": "stdout",
     "output_type": "stream",
     "text": [
      "ola, Diego.\n"
     ]
    }
   ],
   "source": [
    "diga_ola(\"Diego\")"
   ]
  },
  {
   "cell_type": "code",
   "execution_count": 9,
   "id": "7e87cbef",
   "metadata": {},
   "outputs": [
    {
     "name": "stdout",
     "output_type": "stream",
     "text": [
      "ola, asdhjasdhjal.\n"
     ]
    }
   ],
   "source": [
    "diga_ola(\"asdhjasdhjal\")"
   ]
  },
  {
   "cell_type": "code",
   "execution_count": 10,
   "id": "64058334",
   "metadata": {},
   "outputs": [],
   "source": [
    "def gerador_de_numeros_impares(x):\n",
    "    return [i for i in range(x) if i%2 == 1]"
   ]
  },
  {
   "cell_type": "code",
   "execution_count": 11,
   "id": "0401a463",
   "metadata": {},
   "outputs": [
    {
     "data": {
      "text/plain": [
       "[1, 3, 5, 7, 9]"
      ]
     },
     "execution_count": 11,
     "metadata": {},
     "output_type": "execute_result"
    }
   ],
   "source": [
    "gerador_de_numeros_impares(10)"
   ]
  },
  {
   "cell_type": "code",
   "execution_count": 12,
   "id": "5b272a87",
   "metadata": {},
   "outputs": [
    {
     "data": {
      "text/plain": [
       "9"
      ]
     },
     "execution_count": 12,
     "metadata": {},
     "output_type": "execute_result"
    }
   ],
   "source": [
    "gerador_de_numeros_impares(11).pop()"
   ]
  },
  {
   "cell_type": "code",
   "execution_count": 13,
   "id": "b844daa9",
   "metadata": {},
   "outputs": [
    {
     "data": {
      "text/plain": [
       "function"
      ]
     },
     "execution_count": 13,
     "metadata": {},
     "output_type": "execute_result"
    }
   ],
   "source": [
    "type(gerador_de_numeros_impares)"
   ]
  },
  {
   "cell_type": "code",
   "execution_count": 14,
   "id": "36c4d89d",
   "metadata": {},
   "outputs": [],
   "source": [
    "def add_num(num1,num2):\n",
    "    return num1+num2"
   ]
  },
  {
   "cell_type": "code",
   "execution_count": 15,
   "id": "700bec55",
   "metadata": {},
   "outputs": [
    {
     "data": {
      "text/plain": [
       "30"
      ]
     },
     "execution_count": 15,
     "metadata": {},
     "output_type": "execute_result"
    }
   ],
   "source": [
    "add_num(10,20)"
   ]
  },
  {
   "cell_type": "code",
   "execution_count": null,
   "id": "18943c73",
   "metadata": {},
   "outputs": [],
   "source": []
  }
 ],
 "metadata": {
  "kernelspec": {
   "display_name": "Python 3",
   "language": "python",
   "name": "python3"
  },
  "language_info": {
   "codemirror_mode": {
    "name": "ipython",
    "version": 3
   },
   "file_extension": ".py",
   "mimetype": "text/x-python",
   "name": "python",
   "nbconvert_exporter": "python",
   "pygments_lexer": "ipython3",
   "version": "3.12.1"
  }
 },
 "nbformat": 4,
 "nbformat_minor": 5
}
