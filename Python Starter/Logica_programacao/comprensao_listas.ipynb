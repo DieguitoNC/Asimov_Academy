{
 "cells": [
  {
   "cell_type": "markdown",
   "id": "c0a0fe9c",
   "metadata": {},
   "source": [
    "# Compreensão em listas\n"
   ]
  },
  {
   "cell_type": "code",
   "execution_count": null,
   "id": "8e1d0531",
   "metadata": {},
   "outputs": [],
   "source": [
    "word = \"String\"\n"
   ]
  },
  {
   "cell_type": "code",
   "execution_count": 2,
   "id": "7379af13",
   "metadata": {},
   "outputs": [],
   "source": [
    "list_words = []\n",
    "for w in word:\n",
    "    list_words.append(w)"
   ]
  },
  {
   "cell_type": "code",
   "execution_count": 3,
   "id": "86634a5a",
   "metadata": {},
   "outputs": [
    {
     "data": {
      "text/plain": [
       "['S', 't', 'r', 'i', 'n', 'g']"
      ]
     },
     "execution_count": 3,
     "metadata": {},
     "output_type": "execute_result"
    }
   ],
   "source": [
    "list_words\n"
   ]
  },
  {
   "cell_type": "code",
   "execution_count": 4,
   "id": "741991f0",
   "metadata": {},
   "outputs": [],
   "source": [
    "list_words = [(w) for w in word]"
   ]
  },
  {
   "cell_type": "code",
   "execution_count": 5,
   "id": "f950fd80",
   "metadata": {},
   "outputs": [
    {
     "data": {
      "text/plain": [
       "['S', 't', 'r', 'i', 'n', 'g']"
      ]
     },
     "execution_count": 5,
     "metadata": {},
     "output_type": "execute_result"
    }
   ],
   "source": [
    "list_words"
   ]
  },
  {
   "cell_type": "code",
   "execution_count": 6,
   "id": "1a8dbcff",
   "metadata": {},
   "outputs": [],
   "source": [
    "list_2 = [x**2 for x in range(10)]"
   ]
  },
  {
   "cell_type": "code",
   "execution_count": 7,
   "id": "a247c59f",
   "metadata": {},
   "outputs": [
    {
     "data": {
      "text/plain": [
       "[0, 1, 4, 9, 16, 25, 36, 49, 64, 81]"
      ]
     },
     "execution_count": 7,
     "metadata": {},
     "output_type": "execute_result"
    }
   ],
   "source": [
    "list_2"
   ]
  },
  {
   "cell_type": "code",
   "execution_count": 10,
   "id": "6dced62d",
   "metadata": {},
   "outputs": [],
   "source": [
    "list_2 = [x for x in range(50) if x%2 == 0]\n"
   ]
  },
  {
   "cell_type": "code",
   "execution_count": 11,
   "id": "b61ff504",
   "metadata": {},
   "outputs": [
    {
     "data": {
      "text/plain": [
       "[0,\n",
       " 2,\n",
       " 4,\n",
       " 6,\n",
       " 8,\n",
       " 10,\n",
       " 12,\n",
       " 14,\n",
       " 16,\n",
       " 18,\n",
       " 20,\n",
       " 22,\n",
       " 24,\n",
       " 26,\n",
       " 28,\n",
       " 30,\n",
       " 32,\n",
       " 34,\n",
       " 36,\n",
       " 38,\n",
       " 40,\n",
       " 42,\n",
       " 44,\n",
       " 46,\n",
       " 48]"
      ]
     },
     "execution_count": 11,
     "metadata": {},
     "output_type": "execute_result"
    }
   ],
   "source": [
    "list_2"
   ]
  },
  {
   "cell_type": "code",
   "execution_count": 14,
   "id": "efe8463b",
   "metadata": {},
   "outputs": [],
   "source": [
    "y = 100\n",
    "list_2 = [str(x**2 + y) for x in range(50) if x%2 == 0]"
   ]
  },
  {
   "cell_type": "code",
   "execution_count": 13,
   "id": "c9de52b5",
   "metadata": {},
   "outputs": [
    {
     "data": {
      "text/plain": [
       "[100,\n",
       " 104,\n",
       " 116,\n",
       " 136,\n",
       " 164,\n",
       " 200,\n",
       " 244,\n",
       " 296,\n",
       " 356,\n",
       " 424,\n",
       " 500,\n",
       " 584,\n",
       " 676,\n",
       " 776,\n",
       " 884,\n",
       " 1000,\n",
       " 1124,\n",
       " 1256,\n",
       " 1396,\n",
       " 1544,\n",
       " 1700,\n",
       " 1864,\n",
       " 2036,\n",
       " 2216,\n",
       " 2404]"
      ]
     },
     "execution_count": 13,
     "metadata": {},
     "output_type": "execute_result"
    }
   ],
   "source": [
    "list_2"
   ]
  },
  {
   "cell_type": "code",
   "execution_count": null,
   "id": "d7e81491",
   "metadata": {},
   "outputs": [],
   "source": []
  }
 ],
 "metadata": {
  "kernelspec": {
   "display_name": "Python 3",
   "language": "python",
   "name": "python3"
  },
  "language_info": {
   "codemirror_mode": {
    "name": "ipython",
    "version": 3
   },
   "file_extension": ".py",
   "mimetype": "text/x-python",
   "name": "python",
   "nbconvert_exporter": "python",
   "pygments_lexer": "ipython3",
   "version": "3.12.1"
  }
 },
 "nbformat": 4,
 "nbformat_minor": 5
}
